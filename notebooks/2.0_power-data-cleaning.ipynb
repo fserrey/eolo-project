{
 "cells": [
  {
   "cell_type": "code",
   "execution_count": 1,
   "metadata": {},
   "outputs": [],
   "source": [
    "import pandas as pd\n",
    "import numpy as np"
   ]
  },
  {
   "cell_type": "code",
   "execution_count": 2,
   "metadata": {},
   "outputs": [],
   "source": [
    "power = pd.read_csv(\"/home/slimbook/git-repos/eolo-project/data/.raw/BH1_BestGuess.dsv\", sep=\";\", header = 0)"
   ]
  },
  {
   "cell_type": "code",
   "execution_count": 3,
   "metadata": {},
   "outputs": [
    {
     "data": {
      "text/html": [
       "<div>\n",
       "<style scoped>\n",
       "    .dataframe tbody tr th:only-of-type {\n",
       "        vertical-align: middle;\n",
       "    }\n",
       "\n",
       "    .dataframe tbody tr th {\n",
       "        vertical-align: top;\n",
       "    }\n",
       "\n",
       "    .dataframe thead th {\n",
       "        text-align: right;\n",
       "    }\n",
       "</style>\n",
       "<table border=\"1\" class=\"dataframe\">\n",
       "  <thead>\n",
       "    <tr style=\"text-align: right;\">\n",
       "      <th></th>\n",
       "      <th>FECHAUTC</th>\n",
       "      <th>PROD_FETEN</th>\n",
       "    </tr>\n",
       "  </thead>\n",
       "  <tbody>\n",
       "    <tr>\n",
       "      <th>35059</th>\n",
       "      <td>31/12/2017 20:00</td>\n",
       "      <td>29650</td>\n",
       "    </tr>\n",
       "    <tr>\n",
       "      <th>35060</th>\n",
       "      <td>31/12/2017 21:00</td>\n",
       "      <td>27760</td>\n",
       "    </tr>\n",
       "    <tr>\n",
       "      <th>35061</th>\n",
       "      <td>31/12/2017 22:00</td>\n",
       "      <td>18270</td>\n",
       "    </tr>\n",
       "    <tr>\n",
       "      <th>35062</th>\n",
       "      <td>31/12/2017 23:00</td>\n",
       "      <td>12080</td>\n",
       "    </tr>\n",
       "    <tr>\n",
       "      <th>35063</th>\n",
       "      <td>01/01/2018 00:00</td>\n",
       "      <td>16270</td>\n",
       "    </tr>\n",
       "  </tbody>\n",
       "</table>\n",
       "</div>"
      ],
      "text/plain": [
       "               FECHAUTC  PROD_FETEN\n",
       "35059  31/12/2017 20:00       29650\n",
       "35060  31/12/2017 21:00       27760\n",
       "35061  31/12/2017 22:00       18270\n",
       "35062  31/12/2017 23:00       12080\n",
       "35063  01/01/2018 00:00       16270"
      ]
     },
     "execution_count": 3,
     "metadata": {},
     "output_type": "execute_result"
    }
   ],
   "source": [
    "power.tail() # set_index()"
   ]
  },
  {
   "cell_type": "code",
   "execution_count": 4,
   "metadata": {},
   "outputs": [],
   "source": [
    "df = pd.to_datetime(power['FECHAUTC'], format='%d/%m/%Y %H:%M', utc=True)"
   ]
  },
  {
   "cell_type": "code",
   "execution_count": 5,
   "metadata": {},
   "outputs": [
    {
     "data": {
      "text/html": [
       "<div>\n",
       "<style scoped>\n",
       "    .dataframe tbody tr th:only-of-type {\n",
       "        vertical-align: middle;\n",
       "    }\n",
       "\n",
       "    .dataframe tbody tr th {\n",
       "        vertical-align: top;\n",
       "    }\n",
       "\n",
       "    .dataframe thead th {\n",
       "        text-align: right;\n",
       "    }\n",
       "</style>\n",
       "<table border=\"1\" class=\"dataframe\">\n",
       "  <thead>\n",
       "    <tr style=\"text-align: right;\">\n",
       "      <th></th>\n",
       "      <th>PROD_FETEN</th>\n",
       "    </tr>\n",
       "    <tr>\n",
       "      <th>FECHAUTC</th>\n",
       "      <th></th>\n",
       "    </tr>\n",
       "  </thead>\n",
       "  <tbody>\n",
       "    <tr>\n",
       "      <th>01/01/2014 01:00</th>\n",
       "      <td>112467</td>\n",
       "    </tr>\n",
       "    <tr>\n",
       "      <th>01/01/2014 02:00</th>\n",
       "      <td>84612</td>\n",
       "    </tr>\n",
       "    <tr>\n",
       "      <th>01/01/2014 03:00</th>\n",
       "      <td>54776</td>\n",
       "    </tr>\n",
       "    <tr>\n",
       "      <th>01/01/2014 04:00</th>\n",
       "      <td>20260</td>\n",
       "    </tr>\n",
       "    <tr>\n",
       "      <th>01/01/2014 05:00</th>\n",
       "      <td>3600</td>\n",
       "    </tr>\n",
       "  </tbody>\n",
       "</table>\n",
       "</div>"
      ],
      "text/plain": [
       "                  PROD_FETEN\n",
       "FECHAUTC                    \n",
       "01/01/2014 01:00      112467\n",
       "01/01/2014 02:00       84612\n",
       "01/01/2014 03:00       54776\n",
       "01/01/2014 04:00       20260\n",
       "01/01/2014 05:00        3600"
      ]
     },
     "execution_count": 5,
     "metadata": {},
     "output_type": "execute_result"
    }
   ],
   "source": [
    "df = power.set_index('FECHAUTC')\n",
    "df.head()"
   ]
  },
  {
   "cell_type": "code",
   "execution_count": 6,
   "metadata": {},
   "outputs": [],
   "source": [
    "df.index.name = \"date\""
   ]
  },
  {
   "cell_type": "code",
   "execution_count": 7,
   "metadata": {},
   "outputs": [],
   "source": [
    "df[\"Production\"]=df.PROD_FETEN"
   ]
  },
  {
   "cell_type": "code",
   "execution_count": 8,
   "metadata": {},
   "outputs": [],
   "source": [
    "df.drop(\"PROD_FETEN\", axis = 1, inplace=True)"
   ]
  },
  {
   "cell_type": "code",
   "execution_count": 9,
   "metadata": {},
   "outputs": [
    {
     "name": "stdout",
     "output_type": "stream",
     "text": [
      "<class 'pandas.core.frame.DataFrame'>\n",
      "Index: 35064 entries, 01/01/2014 01:00 to 01/01/2018 00:00\n",
      "Data columns (total 1 columns):\n",
      "Production    35064 non-null int64\n",
      "dtypes: int64(1)\n",
      "memory usage: 547.9+ KB\n"
     ]
    }
   ],
   "source": [
    "df.info()"
   ]
  },
  {
   "cell_type": "code",
   "execution_count": 10,
   "metadata": {},
   "outputs": [],
   "source": [
    "df = df[(df['Production'] >= 0)]"
   ]
  },
  {
   "cell_type": "code",
   "execution_count": 11,
   "metadata": {},
   "outputs": [
    {
     "data": {
      "text/html": [
       "<div>\n",
       "<style scoped>\n",
       "    .dataframe tbody tr th:only-of-type {\n",
       "        vertical-align: middle;\n",
       "    }\n",
       "\n",
       "    .dataframe tbody tr th {\n",
       "        vertical-align: top;\n",
       "    }\n",
       "\n",
       "    .dataframe thead th {\n",
       "        text-align: right;\n",
       "    }\n",
       "</style>\n",
       "<table border=\"1\" class=\"dataframe\">\n",
       "  <thead>\n",
       "    <tr style=\"text-align: right;\">\n",
       "      <th></th>\n",
       "      <th>Production</th>\n",
       "    </tr>\n",
       "    <tr>\n",
       "      <th>date</th>\n",
       "      <th></th>\n",
       "    </tr>\n",
       "  </thead>\n",
       "  <tbody>\n",
       "    <tr>\n",
       "      <th>01/01/2014 01:00</th>\n",
       "      <td>112467</td>\n",
       "    </tr>\n",
       "    <tr>\n",
       "      <th>01/01/2014 02:00</th>\n",
       "      <td>84612</td>\n",
       "    </tr>\n",
       "    <tr>\n",
       "      <th>01/01/2014 03:00</th>\n",
       "      <td>54776</td>\n",
       "    </tr>\n",
       "    <tr>\n",
       "      <th>01/01/2014 04:00</th>\n",
       "      <td>20260</td>\n",
       "    </tr>\n",
       "    <tr>\n",
       "      <th>01/01/2014 05:00</th>\n",
       "      <td>3600</td>\n",
       "    </tr>\n",
       "  </tbody>\n",
       "</table>\n",
       "</div>"
      ],
      "text/plain": [
       "                  Production\n",
       "date                        \n",
       "01/01/2014 01:00      112467\n",
       "01/01/2014 02:00       84612\n",
       "01/01/2014 03:00       54776\n",
       "01/01/2014 04:00       20260\n",
       "01/01/2014 05:00        3600"
      ]
     },
     "execution_count": 11,
     "metadata": {},
     "output_type": "execute_result"
    }
   ],
   "source": [
    "df.head()"
   ]
  },
  {
   "cell_type": "code",
   "execution_count": 13,
   "metadata": {},
   "outputs": [],
   "source": [
    "df.to_csv(\"../data/processed/power_data.csv\")"
   ]
  },
  {
   "cell_type": "code",
   "execution_count": null,
   "metadata": {},
   "outputs": [],
   "source": []
  }
 ],
 "metadata": {
  "kernelspec": {
   "display_name": "Python 3",
   "language": "python",
   "name": "python3"
  },
  "language_info": {
   "codemirror_mode": {
    "name": "ipython",
    "version": 3
   },
   "file_extension": ".py",
   "mimetype": "text/x-python",
   "name": "python",
   "nbconvert_exporter": "python",
   "pygments_lexer": "ipython3",
   "version": "3.6.8"
  }
 },
 "nbformat": 4,
 "nbformat_minor": 2
}
